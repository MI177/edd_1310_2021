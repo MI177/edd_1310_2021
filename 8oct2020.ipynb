{
  "nbformat": 4,
  "nbformat_minor": 0,
  "metadata": {
    "colab": {
      "name": "8oct2020.ipynb",
      "provenance": [],
      "authorship_tag": "ABX9TyPCznm50DVmzt/ooCC1siZZ",
      "include_colab_link": true
    },
    "kernelspec": {
      "name": "python3",
      "display_name": "Python 3"
    }
  },
  "cells": [
    {
      "cell_type": "markdown",
      "metadata": {
        "id": "view-in-github",
        "colab_type": "text"
      },
      "source": [
        "<a href=\"https://colab.research.google.com/github/MI177/edd_1310_2021/blob/master/8oct2020.ipynb\" target=\"_parent\"><img src=\"https://colab.research.google.com/assets/colab-badge.svg\" alt=\"Open In Colab\"/></a>"
      ]
    },
    {
      "cell_type": "code",
      "metadata": {
        "id": "OhQ4dLvY8qOh",
        "outputId": "978e2773-51e8-4fb0-a4d8-b4229fd26cbe",
        "colab": {
          "base_uri": "https://localhost:8080/",
          "height": 139
        }
      },
      "source": [
        "#Lista multi dimension\n",
        "monitores =[[\"Samsung\",\"17.3 \\\"\",1024],[\"BenQ\",\"40\\\"\",2048]]\n",
        "procesadores = [[\"Intel\",\"i7\",3.4],[\"AMD\",\"razzer\",3.3],[\"Intel\",\"i3\",3.1]]\n",
        "memorias = [[\"Kingston\", \"8GB\",\"DDR4\"],[\"Kingston\", \"16GB\",\"DDR3\"],[\"ADATA\", \"32GB\",\"DDR4\"]]\n",
        "\n",
        "componentes = [monitores,procesadores,memorias]\n",
        "\n",
        "print(componentes)\n",
        "print(componentes[1])\n",
        "print(componentes[2][1][1])\n",
        "#print(int(componentes[0][1][3])*2)\n",
        "print(componentes[1][1][1][1:4:1])\n",
        "print(componentes[2][2][0].lower())\n",
        "componentes[2].append([\"Patito\",\"32GB\",\"DDR4\"])\n",
        "print(componentes[2])"
      ],
      "execution_count": 23,
      "outputs": [
        {
          "output_type": "stream",
          "text": [
            "[[['Samsung', '17.3 \"', 1024], ['BenQ', '40\"', 2048]], [['Intel', 'i7', 3.4], ['AMD', 'razzer', 3.3], ['Intel', 'i3', 3.1]], [['Kingston', '8GB', 'DDR4'], ['Kingston', '16GB', 'DDR3'], ['ADATA', '32GB', 'DDR4']]]\n",
            "[['Intel', 'i7', 3.4], ['AMD', 'razzer', 3.3], ['Intel', 'i3', 3.1]]\n",
            "16GB\n",
            "azz\n",
            "adata\n",
            "[['Kingston', '8GB', 'DDR4'], ['Kingston', '16GB', 'DDR3'], ['ADATA', '32GB', 'DDR4'], ['Patito', '32GB', 'DDR4']]\n"
          ],
          "name": "stdout"
        }
      ]
    },
    {
      "cell_type": "code",
      "metadata": {
        "id": "9NVkk5tbH3iW",
        "outputId": "8d3c9225-0425-410f-fcdb-75d2ec0b27fd",
        "colab": {
          "base_uri": "https://localhost:8080/",
          "height": 187
        }
      },
      "source": [
        "#Copiar listas \n",
        "#Extender listas\n",
        "\n",
        "frutas=[\"manzana\",\"pera\"]\n",
        "otras_frutas=[\"aguacate\",\"sandia\"]\n",
        "\n",
        "frutas.append(otras_frutas)\n",
        "print(frutas)#De una lista se manda a otra / lista dentro de lista\n",
        "#no como elementos individuales\n",
        "\n",
        "#+sobre listas\n",
        "#frutas=frutas+otras_frutas\n",
        "#print(frutas)\n",
        "\n",
        "#funcion extend\n",
        "#frutas.extend(otras_frutas)\n",
        "#print(frutas)\n",
        "\n",
        "#Copiar listas\n",
        "colores=[\"azu;\",\"rojo\",\"verde\",\"violeta\"]\n",
        "otros_colores= colores\n",
        "print(colores)\n",
        "print(otros_colores)\n",
        "otros_colores.append(\"rosa\")\n",
        "print(colores)\n",
        "print(otros_colores)\n",
        "\"\"\"append no hace copia mbos son modificados\n",
        "la copia es una copia de referencia no otra copia en memoria\n",
        "comparte la referencia en memoria de colores\"\"\"\n",
        "print(\"------------------------------------------------------------\")\n",
        "una_mas=colores.copy()\n",
        "print(una_mas)\n",
        "una_mas.append(\"gris\")\n",
        "print(una_mas)\n",
        "print(colores)\n",
        "\n",
        "#unpaking de listas\n",
        "\n",
        "#alumno=[\"Isabel\",\"Pere\",\"hdz\",19,\"ico\",9]\n",
        "#nombre=alumno[0]\n",
        "#apellido=alumno[1]\n",
        "\n",
        "nombre,paterno,materno,edad,carrera,promedio=alumno\n",
        "print(f\"Alumno: {nombre} carrera: {carrera} promedio = {promedio}\")"
      ],
      "execution_count": 34,
      "outputs": [
        {
          "output_type": "stream",
          "text": [
            "['manzana', 'pera', ['aguacate', 'sandia']]\n",
            "['azu;', 'rojo', 'verde', 'violeta']\n",
            "['azu;', 'rojo', 'verde', 'violeta']\n",
            "['azu;', 'rojo', 'verde', 'violeta', 'rosa']\n",
            "['azu;', 'rojo', 'verde', 'violeta', 'rosa']\n",
            "------------------------------------------------------------\n",
            "['azu;', 'rojo', 'verde', 'violeta', 'rosa']\n",
            "['azu;', 'rojo', 'verde', 'violeta', 'rosa', 'gris']\n",
            "['azu;', 'rojo', 'verde', 'violeta', 'rosa']\n",
            "Alumno: Isabel carrera: ico promedio = 9\n"
          ],
          "name": "stdout"
        }
      ]
    },
    {
      "cell_type": "markdown",
      "metadata": {
        "id": "pLPaJWw9R3tg"
      },
      "source": [
        "# Tuplas\n",
        "\n",
        "-se delcara con ( )\n",
        "\n",
        "-el selectpr es igual que en las listas [ ]\n",
        "\n",
        "-no son mutables\n",
        "\n",
        "conjuto de datos que son indexados, tiene mismo comportamiento que una lista, pero no se pueden cambiar\n",
        "\n",
        "sirven para consulta, valores que son constante para todo el programa"
      ]
    },
    {
      "cell_type": "code",
      "metadata": {
        "id": "nQP8-T79SP-P",
        "outputId": "eca5e83a-a194-4d87-bcd2-92fdbb05f0d3",
        "colab": {
          "base_uri": "https://localhost:8080/",
          "height": 68
        }
      },
      "source": [
        "precios = (99.9 , 49.9 , 12.45 , 55.66)\n",
        "print(precios[1])\n",
        "#precios[1]=50.0 los objetos tuplas no soportan asignacion de elementos\n",
        "print(precios)\n",
        "print(precios[2:4:])"
      ],
      "execution_count": 39,
      "outputs": [
        {
          "output_type": "stream",
          "text": [
            "49.9\n",
            "(99.9, 49.9, 12.45, 55.66)\n",
            "(12.45, 55.66)\n"
          ],
          "name": "stdout"
        }
      ]
    },
    {
      "cell_type": "markdown",
      "metadata": {
        "id": "qRolXlUPTlCb"
      },
      "source": [
        "# Diccionarios\n",
        "\n",
        "se declara con {}\n",
        "\n",
        "si son mutables\n",
        "\n",
        "conjuntos de pares {}\" valor\n",
        "\n",
        "equivalente a los objetos JSON de Javasrcipt\n",
        "\n",
        "selectoe[]"
      ]
    },
    {
      "cell_type": "code",
      "metadata": {
        "id": "BygljEr8T9XW",
        "outputId": "7103834a-7700-49c7-a134-50f02fe3c5e3",
        "colab": {
          "base_uri": "https://localhost:8080/",
          "height": 139
        }
      },
      "source": [
        "cliente={   }\n",
        "print(cliente)\n",
        "alumno={   \"num_cta\"  :303030303 }\n",
        "print(alumno)\n",
        "\n",
        "alumno = { \n",
        "          \"num_cta\" : 303030303 ,\n",
        "          \"carrera\" : \"ICO\",\n",
        "          \"promedio\" : 9.8,\n",
        "          \"materias\" :[\"EDD\",\"CyP\",\"Calidad\",\"Emprendimiento\"],\n",
        "          \"direccion\" : { \n",
        "                            \"calle\":\"rancho seco\",\n",
        "                            \"numero\" : 23 ,\n",
        "                            \"delegacion\" : \"Neza\",\n",
        "                            \"estado\" : {\n",
        "                                        \"id\" : 15 ,\n",
        "                                        \"nombre\" : \"Estado de Máxico\" ,\n",
        "                                        \"nombre_corto\" : \"EdoMex\"\n",
        "                                        } ,\n",
        "                            \"CP\":57170\n",
        "\n",
        "                        } \n",
        "          }\n",
        "\n",
        "print(alumno)\n",
        "print(alumno['materias'])\n",
        "print(alumno['promedio'])\n",
        "print(alumno['direccion']['estado']['nombre_corto'])"
      ],
      "execution_count": 48,
      "outputs": [
        {
          "output_type": "stream",
          "text": [
            "{}\n",
            "{'num_cta': 303030303}\n",
            "{'num_cta': 303030303, 'carrera': 'ICO', 'promedio': 9.8, 'materias': ['EDD', 'CyP', 'Calidad', 'Emprendimiento'], 'direccion': {'calle': 'rancho seco', 'numero': 23, 'delegacion': 'Neza', 'estado': {'id': 15, 'nombre': 'Estado de Máxico', 'nombre_corto': 'EdoMex'}, 'CP': 57170}}\n",
            "['EDD', 'CyP', 'Calidad', 'Emprendimiento']\n",
            "9.8\n",
            "EdoMex\n"
          ],
          "name": "stdout"
        }
      ]
    }
  ]
}