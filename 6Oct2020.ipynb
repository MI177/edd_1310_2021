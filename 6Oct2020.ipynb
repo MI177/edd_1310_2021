{
  "nbformat": 4,
  "nbformat_minor": 0,
  "metadata": {
    "colab": {
      "name": "6deOctubre2020.ipynb",
      "provenance": [],
      "collapsed_sections": [],
      "authorship_tag": "ABX9TyPyHooarZBTgQ9of8x4B5XJ",
      "include_colab_link": true
    },
    "kernelspec": {
      "name": "python3",
      "display_name": "Python 3"
    }
  },
  "cells": [
    {
      "cell_type": "markdown",
      "metadata": {
        "id": "view-in-github",
        "colab_type": "text"
      },
      "source": [
        "<a href=\"https://colab.research.google.com/github/MI177/edd_1310_2021/blob/master/6Oct2020.ipynb\" target=\"_parent\"><img src=\"https://colab.research.google.com/assets/colab-badge.svg\" alt=\"Open In Colab\"/></a>"
      ]
    },
    {
      "cell_type": "code",
      "metadata": {
        "id": "vmOXHNVRqtl4",
        "outputId": "852c8bb6-261f-43ba-da15-3abdf7a88309",
        "colab": {
          "base_uri": "https://localhost:8080/",
          "height": 340
        }
      },
      "source": [
        "#String continuacion\n",
        "\n",
        "numeros_txt=\"    1, 2, 3, 4   ,   5 ,   35 ,    15  ,     12\"\n",
        "print(numeros_txt)\n",
        "numeros_txt=numeros_txt.lstrip().split(\",\")\n",
        "print(numeros_txt)\n",
        "\n",
        "for j in range(len(numeros_txt)):\n",
        "  numeros_txt[j]=int(numeros_txt[j].strip())\n",
        "\n",
        "print(numeros_txt)\n",
        "\n",
        "\n",
        "#Funcion Range\n",
        "#range(inicio,stop,incremento)\n",
        "\n",
        "print(range(0,10,1))\n",
        "rango=range(1,10,2)\n",
        "\n",
        "for x in rango:\n",
        "  print(x)\n",
        "\n",
        "rango=range(10)\n",
        "for x in rango:\n",
        "  print(x)\n",
        "\n"
      ],
      "execution_count": 13,
      "outputs": [
        {
          "output_type": "stream",
          "text": [
            "    1, 2, 3, 4   ,   5 ,   35 ,    15  ,     12\n",
            "['1', ' 2', ' 3', ' 4   ', '   5 ', '   35 ', '    15  ', '     12']\n",
            "[1, 2, 3, 4, 5, 35, 15, 12]\n",
            "range(0, 10)\n",
            "1\n",
            "3\n",
            "5\n",
            "7\n",
            "9\n",
            "0\n",
            "1\n",
            "2\n",
            "3\n",
            "4\n",
            "5\n",
            "6\n",
            "7\n",
            "8\n",
            "9\n"
          ],
          "name": "stdout"
        }
      ]
    },
    {
      "cell_type": "markdown",
      "metadata": {
        "id": "jHoomGo6xGrg"
      },
      "source": [
        "# Listas\n",
        "mutables \n",
        "\n",
        "se declaran con corchetes[]\n",
        "\n",
        "selector [int]\n",
        "\n",
        "pueden ser de cualquier tipo y mezclado\n",
        "\n",
        "# tuplas\n",
        "no mutables\n",
        "\n",
        "se declaran com ()\n",
        "\n",
        "selector [int]\n",
        "\n",
        "# diccionarios\n",
        "conjunto de pares llave:valor\n",
        "\n",
        "son mutables\n",
        "\n",
        "son equivalentes a los objetos jaaso de javascritp\n",
        "\n",
        "# conjuntos\n",
        "representacion de la teoria de conjuntos "
      ]
    },
    {
      "cell_type": "code",
      "metadata": {
        "id": "fMelDoegyOPi",
        "outputId": "2d5dab05-b886-440b-abd5-842f2f6aedd8",
        "colab": {
          "base_uri": "https://localhost:8080/",
          "height": 136
        }
      },
      "source": [
        "#Listas \n",
        "frutas=[\"Pera\",\"Manzana\",\"fresa\",\"Kiwi\",\"Naranja\"]\n",
        "print(frutas)\n",
        "cosas=[\"cuaderno\",2,3.1416,True,False,[\"rojo\",\"azul\"]]\n",
        "print(cosas)\n",
        "frutas[2]=\"Fresa\" #frutas[2]=fruta[2].capitalize()\n",
        "print(frutas)\n",
        "#agregar a lista\n",
        "frutas.append(\"Aguacate\")\n",
        "print(frutas)\n",
        "frutas.insert(2,\"Sandia\")\n",
        "print(frutas)\n",
        "\n",
        "#Concatenar lista\n",
        "fecha=[\"06\",\"10\",\"2020\"] #Convirtiendo a 06/10/2020\n",
        "print(fecha)\n",
        "fecha_str=\"/\".join(fecha)\n",
        "print(fecha_str)\n",
        "\n"
      ],
      "execution_count": null,
      "outputs": [
        {
          "output_type": "stream",
          "text": [
            "['Pera', 'Manzana', 'fresa', 'Kiwi', 'Naranja']\n",
            "['cuaderno', 2, 3.1416, True, False, ['rojo', 'azul']]\n",
            "['Pera', 'Manzana', 'Fresa', 'Kiwi', 'Naranja']\n",
            "['Pera', 'Manzana', 'Fresa', 'Kiwi', 'Naranja', 'Aguacate']\n",
            "['Pera', 'Manzana', 'Sandia', 'Fresa', 'Kiwi', 'Naranja', 'Aguacate']\n",
            "['06', '10', '2020']\n",
            "06/10/2020\n"
          ],
          "name": "stdout"
        }
      ]
    },
    {
      "cell_type": "code",
      "metadata": {
        "id": "kh9s__yHz4jq",
        "outputId": "e26a8c2e-b062-44f7-ffca-2b3b233d710a",
        "colab": {
          "base_uri": "https://localhost:8080/",
          "height": 1000
        }
      },
      "source": [
        "help(list)"
      ],
      "execution_count": 21,
      "outputs": [
        {
          "output_type": "stream",
          "text": [
            "Help on class list in module builtins:\n",
            "\n",
            "class list(object)\n",
            " |  list() -> new empty list\n",
            " |  list(iterable) -> new list initialized from iterable's items\n",
            " |  \n",
            " |  Methods defined here:\n",
            " |  \n",
            " |  __add__(self, value, /)\n",
            " |      Return self+value.\n",
            " |  \n",
            " |  __contains__(self, key, /)\n",
            " |      Return key in self.\n",
            " |  \n",
            " |  __delitem__(self, key, /)\n",
            " |      Delete self[key].\n",
            " |  \n",
            " |  __eq__(self, value, /)\n",
            " |      Return self==value.\n",
            " |  \n",
            " |  __ge__(self, value, /)\n",
            " |      Return self>=value.\n",
            " |  \n",
            " |  __getattribute__(self, name, /)\n",
            " |      Return getattr(self, name).\n",
            " |  \n",
            " |  __getitem__(...)\n",
            " |      x.__getitem__(y) <==> x[y]\n",
            " |  \n",
            " |  __gt__(self, value, /)\n",
            " |      Return self>value.\n",
            " |  \n",
            " |  __iadd__(self, value, /)\n",
            " |      Implement self+=value.\n",
            " |  \n",
            " |  __imul__(self, value, /)\n",
            " |      Implement self*=value.\n",
            " |  \n",
            " |  __init__(self, /, *args, **kwargs)\n",
            " |      Initialize self.  See help(type(self)) for accurate signature.\n",
            " |  \n",
            " |  __iter__(self, /)\n",
            " |      Implement iter(self).\n",
            " |  \n",
            " |  __le__(self, value, /)\n",
            " |      Return self<=value.\n",
            " |  \n",
            " |  __len__(self, /)\n",
            " |      Return len(self).\n",
            " |  \n",
            " |  __lt__(self, value, /)\n",
            " |      Return self<value.\n",
            " |  \n",
            " |  __mul__(self, value, /)\n",
            " |      Return self*value.\n",
            " |  \n",
            " |  __ne__(self, value, /)\n",
            " |      Return self!=value.\n",
            " |  \n",
            " |  __new__(*args, **kwargs) from builtins.type\n",
            " |      Create and return a new object.  See help(type) for accurate signature.\n",
            " |  \n",
            " |  __repr__(self, /)\n",
            " |      Return repr(self).\n",
            " |  \n",
            " |  __reversed__(...)\n",
            " |      L.__reversed__() -- return a reverse iterator over the list\n",
            " |  \n",
            " |  __rmul__(self, value, /)\n",
            " |      Return value*self.\n",
            " |  \n",
            " |  __setitem__(self, key, value, /)\n",
            " |      Set self[key] to value.\n",
            " |  \n",
            " |  __sizeof__(...)\n",
            " |      L.__sizeof__() -- size of L in memory, in bytes\n",
            " |  \n",
            " |  append(...)\n",
            " |      L.append(object) -> None -- append object to end\n",
            " |  \n",
            " |  clear(...)\n",
            " |      L.clear() -> None -- remove all items from L\n",
            " |  \n",
            " |  copy(...)\n",
            " |      L.copy() -> list -- a shallow copy of L\n",
            " |  \n",
            " |  count(...)\n",
            " |      L.count(value) -> integer -- return number of occurrences of value\n",
            " |  \n",
            " |  extend(...)\n",
            " |      L.extend(iterable) -> None -- extend list by appending elements from the iterable\n",
            " |  \n",
            " |  index(...)\n",
            " |      L.index(value, [start, [stop]]) -> integer -- return first index of value.\n",
            " |      Raises ValueError if the value is not present.\n",
            " |  \n",
            " |  insert(...)\n",
            " |      L.insert(index, object) -- insert object before index\n",
            " |  \n",
            " |  pop(...)\n",
            " |      L.pop([index]) -> item -- remove and return item at index (default last).\n",
            " |      Raises IndexError if list is empty or index is out of range.\n",
            " |  \n",
            " |  remove(...)\n",
            " |      L.remove(value) -> None -- remove first occurrence of value.\n",
            " |      Raises ValueError if the value is not present.\n",
            " |  \n",
            " |  reverse(...)\n",
            " |      L.reverse() -- reverse *IN PLACE*\n",
            " |  \n",
            " |  sort(...)\n",
            " |      L.sort(key=None, reverse=False) -> None -- stable sort *IN PLACE*\n",
            " |  \n",
            " |  ----------------------------------------------------------------------\n",
            " |  Data and other attributes defined here:\n",
            " |  \n",
            " |  __hash__ = None\n",
            "\n"
          ],
          "name": "stdout"
        }
      ]
    },
    {
      "cell_type": "code",
      "metadata": {
        "id": "QRlG7-CD3stS",
        "outputId": "c771bcbd-3112-4f1d-edaa-b24ca8d1404b",
        "colab": {
          "base_uri": "https://localhost:8080/",
          "height": 153
        }
      },
      "source": [
        "#Eliminar elementos\n",
        "#pop elimina de acuerdo a la posicio que se le de\n",
        "cosas=[\"cuaderno\",2,3.1416,True,False,[\"rojo\",\"azul\"]]\n",
        "print(cosas)\n",
        "cosas.append(\"libro\")\n",
        "cosas.append(\"lapiz\")\n",
        "print(cosas)\n",
        "algo=cosas.pop()\n",
        "print(cosas)\n",
        "\n",
        "algo=cosas.pop(2)\n",
        "print(cosas)\n",
        "print(algo)\n",
        "cosas.remove(2)\n",
        "print(cosas)\n",
        "\n",
        "#Vaciar una lista\n",
        "#cosas.clear()\n",
        "#print(cosas)\n",
        "\n",
        "#ordenar\n",
        "#Para que sort funcione el tipo de datos dentro de una lista deben de ser \n",
        "#del mismo tipo\n",
        "print(frutas)\n",
        "frutas.sort()\n",
        "print(frutas)\n",
        "\n"
      ],
      "execution_count": 35,
      "outputs": [
        {
          "output_type": "stream",
          "text": [
            "['cuaderno', 2, 3.1416, True, False, ['rojo', 'azul']]\n",
            "['cuaderno', 2, 3.1416, True, False, ['rojo', 'azul'], 'libro', 'lapiz']\n",
            "['cuaderno', 2, 3.1416, True, False, ['rojo', 'azul'], 'libro']\n",
            "['cuaderno', 2, True, False, ['rojo', 'azul'], 'libro']\n",
            "3.1416\n",
            "['cuaderno', True, False, ['rojo', 'azul'], 'libro']\n",
            "['Aguacate', 'Fresa', 'Kiwi', 'Manzana', 'Naranja', 'Pera', 'Sandia']\n",
            "['Aguacate', 'Fresa', 'Kiwi', 'Manzana', 'Naranja', 'Pera', 'Sandia']\n"
          ],
          "name": "stdout"
        }
      ]
    },
    {
      "cell_type": "code",
      "metadata": {
        "id": "ekBVyRN67Gae",
        "outputId": "387515d0-6552-4233-e5e0-8c801f3794d0",
        "colab": {
          "base_uri": "https://localhost:8080/",
          "height": 136
        }
      },
      "source": [
        "#Slicing\n",
        "#no modifica la lista original\n",
        "\n",
        "cosas=[\"cuaderno\",2,3.1416,True,False,[\"rojo\",\"azul\"]]\n",
        "print(cosas[3:5:1])\n",
        "print(cosas)\n",
        "\n",
        "print(cosas[0][3:5:1])\n",
        "\n",
        "numeros=[0,1,2,3,4,5,6,7,8,9,10,11,12,13,14,15]\n",
        "print(numeros[8:13:1]) #print(numeros[:13:])\n",
        "\n",
        "#sustituir rebanadas -2,-2\n",
        "\n",
        "numeros[8:13:]=[-2,-2]\n",
        "print(numeros)\n",
        "\n",
        "#preguntar existencia\n",
        "print(-2 in numeros)\n",
        "print(100 in numeros)"
      ],
      "execution_count": 46,
      "outputs": [
        {
          "output_type": "stream",
          "text": [
            "[True, False]\n",
            "['cuaderno', 2, 3.1416, True, False, ['rojo', 'azul']]\n",
            "de\n",
            "[8, 9, 10, 11, 12]\n",
            "[0, 1, 2, 3, 4, 5, 6, 7, -2, -2, 13, 14, 15]\n",
            "True\n",
            "False\n"
          ],
          "name": "stdout"
        }
      ]
    },
    {
      "cell_type": "markdown",
      "metadata": {
        "id": "ruG9cX9N-lKz"
      },
      "source": [
        "# Lista multidimension\n",
        "\n",
        "listas dentro de listas "
      ]
    },
    {
      "cell_type": "code",
      "metadata": {
        "id": "xk-Wz96S-rLl",
        "outputId": "c3119356-a6c2-4c8f-84c4-4110ec02b301",
        "colab": {
          "base_uri": "https://localhost:8080/",
          "height": 207
        }
      },
      "source": [
        "computadoras=[\"HP\",\"Mac Book Pro 17\",\"Mate Book\",\"Lenovo legion\"]\n",
        "oss=[\"Windows 10\",\"Linux\",\"Android\",\"IOS\"]\n",
        "\n",
        "computo=[computadoras,oss]\n",
        "print(computo[0])\n",
        "print(computo[1])\n",
        "\n",
        "print(computo[0][2])\n",
        "print(computo[0][2][0:5])\n",
        "print(computo[0][3][5::-1])\n",
        "print(computo[0][3][-8::-1])\n",
        "\n",
        "print(\"Linux\" in computo[1])\n",
        "\n",
        "dbms=[[\"Mysql\",\"Open Source\",False],[\"MS SQL Server\",\"de paga\",True]]\n",
        "computo.append(dbms)\n",
        "print(computo)\n",
        "print(computo[2][0][0])\n",
        "print(computo[2][1][1])"
      ],
      "execution_count": 61,
      "outputs": [
        {
          "output_type": "stream",
          "text": [
            "['HP', 'Mac Book Pro 17', 'Mate Book', 'Lenovo legion']\n",
            "['Windows 10', 'Linux', 'Android', 'IOS']\n",
            "Mate Book\n",
            "Mate \n",
            "ovoneL\n",
            "ovoneL\n",
            "True\n",
            "[['HP', 'Mac Book Pro 17', 'Mate Book', 'Lenovo legion'], ['Windows 10', 'Linux', 'Android', 'IOS'], [['Mysql', 'Open Source', False], ['MS SQL Server', 'de paga', True]]]\n",
            "Mysql\n",
            "de paga\n"
          ],
          "name": "stdout"
        }
      ]
    }
  ]
}