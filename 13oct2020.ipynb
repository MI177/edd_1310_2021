{
  "nbformat": 4,
  "nbformat_minor": 0,
  "metadata": {
    "colab": {
      "name": "13oct2020.ipynb",
      "provenance": [],
      "authorship_tag": "ABX9TyPgY205ki++IgBqyYlN+ANU",
      "include_colab_link": true
    },
    "kernelspec": {
      "name": "python3",
      "display_name": "Python 3"
    }
  },
  "cells": [
    {
      "cell_type": "markdown",
      "metadata": {
        "id": "view-in-github",
        "colab_type": "text"
      },
      "source": [
        "<a href=\"https://colab.research.google.com/github/MI177/edd_1310_2021/blob/master/13oct2020.ipynb\" target=\"_parent\"><img src=\"https://colab.research.google.com/assets/colab-badge.svg\" alt=\"Open In Colab\"/></a>"
      ]
    },
    {
      "cell_type": "code",
      "metadata": {
        "id": "V03I3XJdsP5W",
        "outputId": "0004210a-85ad-4a38-dc70-d24292a6deac",
        "colab": {
          "base_uri": "https://localhost:8080/",
          "height": 88
        }
      },
      "source": [
        "alumno = { \n",
        "          \"num_cta\" : 303030303 ,\n",
        "          \"carrera\" : \"ICO\",\n",
        "          \"promedio\" : 9.8,\n",
        "          \"materias\" :[\"EDD\",\"CyP\",\"Calidad\",\"Emprendimiento\"],\n",
        "          \"direccion\" : { \n",
        "                            \"calle\":\"rancho seco\",\n",
        "                            \"numero\" : 23 ,\n",
        "                            \"delegacion\" : \"Neza\",\n",
        "                            \"estado\" : {\n",
        "                                        \"id\" : 15 ,\n",
        "                                        \"nombre\" : \"Estado de Máxico\" ,\n",
        "                                        \"nombre_corto\" : \"EdoMex\"\n",
        "                                        } ,\n",
        "                            \"CP\":57170\n",
        "\n",
        "                        } \n",
        "          }\n",
        "\n",
        "print(alumno)\n",
        "alumno['carrera']=\"Ingenieria en Computacion\"\n",
        "print(alumno)\n",
        "alumno['nombre_completo']={'primer':\"Juan\",\n",
        "                           \"segundo\":\"Pedro\",\n",
        "                           \"materno\":\"Perez\",\n",
        "                           \"paterno\":\"Gomez\"\n",
        "                           }\n",
        "alumno['semestre']=3\n",
        "print(alumno)\n",
        "\n",
        "#print(f\"{alumno['nombre_completo']['primer']} {alumno['nombre_completo'[\"segundo\"]}\")"
      ],
      "execution_count": 11,
      "outputs": [
        {
          "output_type": "stream",
          "text": [
            "{'num_cta': 303030303, 'carrera': 'ICO', 'promedio': 9.8, 'materias': ['EDD', 'CyP', 'Calidad', 'Emprendimiento'], 'direccion': {'calle': 'rancho seco', 'numero': 23, 'delegacion': 'Neza', 'estado': {'id': 15, 'nombre': 'Estado de Máxico', 'nombre_corto': 'EdoMex'}, 'CP': 57170}}\n",
            "{'num_cta': 303030303, 'carrera': 'Ingenieria en Computacion', 'promedio': 9.8, 'materias': ['EDD', 'CyP', 'Calidad', 'Emprendimiento'], 'direccion': {'calle': 'rancho seco', 'numero': 23, 'delegacion': 'Neza', 'estado': {'id': 15, 'nombre': 'Estado de Máxico', 'nombre_corto': 'EdoMex'}, 'CP': 57170}}\n",
            "{'num_cta': 303030303, 'carrera': 'Ingenieria en Computacion', 'promedio': 9.8, 'materias': ['EDD', 'CyP', 'Calidad', 'Emprendimiento'], 'direccion': {'calle': 'rancho seco', 'numero': 23, 'delegacion': 'Neza', 'estado': {'id': 15, 'nombre': 'Estado de Máxico', 'nombre_corto': 'EdoMex'}, 'CP': 57170}, 'nombre_completo': {'primer': 'Juan', 'segundo': 'Pedro', 'materno': 'Perez', 'paterno': 'Gomez'}, 'semestre': 3}\n"
          ],
          "name": "stdout"
        }
      ]
    },
    {
      "cell_type": "code",
      "metadata": {
        "id": "fVMmrW38yB7N",
        "outputId": "d68106b4-9b46-4b87-b2d3-20192655ed71",
        "colab": {
          "base_uri": "https://localhost:8080/",
          "height": 445
        }
      },
      "source": [
        "#Keys() , values() ,  items()\n",
        "\n",
        "llaves=alumno.keys()\n",
        "print(llaves)\n",
        "for llave in llaves:\n",
        "  print(llave.upper())\n",
        "print(\"------------------------------\")\n",
        "valores=alumno.values()\n",
        "for val in valores:\n",
        "  print(val)\n",
        "\n",
        "pares=alumno.items() #los valores son para consulta\n",
        "print(pares) #Lista de tuplas\n",
        "for elem in pares:\n",
        "  print(f\"el campo {elem[0]} tiene el valor {elem[1]}\")"
      ],
      "execution_count": 19,
      "outputs": [
        {
          "output_type": "stream",
          "text": [
            "dict_keys(['num_cta', 'carrera', 'promedio', 'materias', 'direccion', 'nombre_completo', 'semestre'])\n",
            "NUM_CTA\n",
            "CARRERA\n",
            "PROMEDIO\n",
            "MATERIAS\n",
            "DIRECCION\n",
            "NOMBRE_COMPLETO\n",
            "SEMESTRE\n",
            "------------------------------\n",
            "303030303\n",
            "Ingenieria en Computacion\n",
            "9.8\n",
            "['EDD', 'CyP', 'Calidad', 'Emprendimiento']\n",
            "{'calle': 'rancho seco', 'numero': 23, 'delegacion': 'Neza', 'estado': {'id': 15, 'nombre': 'Estado de Máxico', 'nombre_corto': 'EdoMex'}, 'CP': 57170}\n",
            "{'primer': 'Juan', 'segundo': 'Pedro', 'materno': 'Perez', 'paterno': 'Gomez'}\n",
            "3\n",
            "dict_items([('num_cta', 303030303), ('carrera', 'Ingenieria en Computacion'), ('promedio', 9.8), ('materias', ['EDD', 'CyP', 'Calidad', 'Emprendimiento']), ('direccion', {'calle': 'rancho seco', 'numero': 23, 'delegacion': 'Neza', 'estado': {'id': 15, 'nombre': 'Estado de Máxico', 'nombre_corto': 'EdoMex'}, 'CP': 57170}), ('nombre_completo', {'primer': 'Juan', 'segundo': 'Pedro', 'materno': 'Perez', 'paterno': 'Gomez'}), ('semestre', 3)])\n",
            "el campo num_cta tiene el valor 303030303\n",
            "el campo carrera tiene el valor Ingenieria en Computacion\n",
            "el campo promedio tiene el valor 9.8\n",
            "el campo materias tiene el valor ['EDD', 'CyP', 'Calidad', 'Emprendimiento']\n",
            "el campo direccion tiene el valor {'calle': 'rancho seco', 'numero': 23, 'delegacion': 'Neza', 'estado': {'id': 15, 'nombre': 'Estado de Máxico', 'nombre_corto': 'EdoMex'}, 'CP': 57170}\n",
            "el campo nombre_completo tiene el valor {'primer': 'Juan', 'segundo': 'Pedro', 'materno': 'Perez', 'paterno': 'Gomez'}\n",
            "el campo semestre tiene el valor 3\n"
          ],
          "name": "stdout"
        }
      ]
    },
    {
      "cell_type": "code",
      "metadata": {
        "id": "3mw4ilcJ0-CN",
        "outputId": "ec550a12-8576-498b-dbe1-1919204f2f66",
        "colab": {
          "base_uri": "https://localhost:8080/",
          "height": 34
        }
      },
      "source": [
        "computadora={\"procesador\":\"Intel i7\",\"RAM\":\"Kignston 12GB\"}\n",
        "otros={\"monitor\":\"LG 49\",\"hd\":\"Toshiba 1T\"}\n",
        "computadora.update(otros)\n",
        "print(computadora)"
      ],
      "execution_count": 21,
      "outputs": [
        {
          "output_type": "stream",
          "text": [
            "{'procesador': 'Intel i7', 'RAM': 'Kignston 12GB', 'monitor': 'LG 49', 'hd': 'Toshiba 1T'}\n"
          ],
          "name": "stdout"
        }
      ]
    },
    {
      "cell_type": "markdown",
      "metadata": {
        "id": "Pm6wPk_o2p6e"
      },
      "source": [
        "# Funciones\n",
        "\n",
        "-Son unidades de codigo reutilizable \n",
        "\n",
        "-Es un mecanismo de organizacion de codigo\n",
        "\n",
        "-Toma de 0 a n parametros de entrada\n",
        "\n",
        "-Tienen una salida (return) de cualquier tipo de dato\n",
        "\n",
        "-Solo puede hacer dos cosas:\n",
        "*   definirla\n",
        "*   Llamarla\n",
        "\n",
        "-Se definen con la palabra reservada 'def'"
      ]
    },
    {
      "cell_type": "code",
      "metadata": {
        "id": "gz3oNh983zTu",
        "outputId": "e0d634fd-59f5-4d59-a922-d5bd18eec0da",
        "colab": {
          "base_uri": "https://localhost:8080/",
          "height": 221
        }
      },
      "source": [
        "def sumar(x,y):\n",
        "  resultado = x+y\n",
        "  return resultado\n",
        "\n",
        "def saludar(nombre):\n",
        "  print(f\"Hola {nombre}, como estas?\")\n",
        "  return None\n",
        "\n",
        "#Procesar None\n",
        "\n",
        "def multiplicar (valor,veces):\n",
        "  if valor != None:\n",
        "     c= valor * veces\n",
        "     return c\n",
        "  else:\n",
        "    print(\"operacion no valida\")\n",
        "  #return c\n",
        "\n",
        "def operacion (a,b,c):\n",
        "  res=a+(b/c)\n",
        "  return res\n",
        "\n",
        "print(sumar(10,5))\n",
        "print(sumar(2,6))\n",
        "c=sumar(3,7)\n",
        "print(c)\n",
        "saludar(\"Jesus\")\n",
        "print(saludar(\"Jose\"))\n",
        "print(multiplicar(5,6))\n",
        "print(multiplicar(None,6))\n",
        "\n",
        "print(operacion(2,9,3))\n",
        "print(operacion(9,3,2))\n",
        "\n",
        "print(operacion(a=2,c=3,b=9))"
      ],
      "execution_count": 42,
      "outputs": [
        {
          "output_type": "stream",
          "text": [
            "15\n",
            "8\n",
            "10\n",
            "Hola Jesus, como estas?\n",
            "Hola Jose, como estas?\n",
            "None\n",
            "30\n",
            "operacion no valida\n",
            "None\n",
            "5.0\n",
            "10.5\n",
            "5.0\n"
          ],
          "name": "stdout"
        }
      ]
    },
    {
      "cell_type": "code",
      "metadata": {
        "id": "9aZUhrgg-jwX",
        "outputId": "545ca4f0-d642-4057-e7f6-04a0658c3f4b",
        "colab": {
          "base_uri": "https://localhost:8080/",
          "height": 272
        }
      },
      "source": [
        "#Valores por defecto \n",
        "\n",
        "def comanda (primer,fuerte,postre = \"galleta de animalito\"):\n",
        "  print(f\"De entrada pidio {primer}\")\n",
        "  print(f\"De eplato fuerte pidio {fuerte}\")\n",
        "  print(f\"De postre pidio {postre}\")\n",
        "\n",
        "#argumentos posicionales con tuplas *\n",
        "def comanda2 (*opciones):\n",
        "  print(opciones)\n",
        "  print(f\"De entrada pidio {opciones[0]}\")\n",
        "  print(f\"De eplato fuerte pidio {opciones[1]}\")\n",
        "  print(f\"De postre pidio {opciones[2]}\")\n",
        "  print(\"\\nIndicaciones extras\")\n",
        "  for ind in opciones[3::]:\n",
        "    print(f\"\\t {ind}\") \n",
        "\n",
        "comanda(\"sopa aguada\",\"tortas de papa\",\"gelatina de limon\")\n",
        "comanda(\"sopa aguada\",\"tortas de papa\")\n",
        "comanda2(\"sopa aguada\",\"tortas de papa\",\"gelatina de limon\",\n",
        "         \"las tortas bien doradas\",\"traer dos limones\",\"agua con hielo\")\n"
      ],
      "execution_count": 54,
      "outputs": [
        {
          "output_type": "stream",
          "text": [
            "De entrada pidio sopa aguada\n",
            "De eplato fuerte pidio tortas de papa\n",
            "De postre pidio gelatina de limon\n",
            "De entrada pidio sopa aguada\n",
            "De eplato fuerte pidio tortas de papa\n",
            "De postre pidio galleta de animalito\n",
            "('sopa aguada', 'tortas de papa', 'gelatina de limon', 'las tortas bien doradas', 'traer dos limones', 'agua con hielo')\n",
            "De entrada pidio sopa aguada\n",
            "De eplato fuerte pidio tortas de papa\n",
            "De postre pidio gelatina de limon\n",
            "\n",
            "Indicaciones extras\n",
            "\t las tortas bien doradas\n",
            "\t traer dos limones\n",
            "\t agua con hielo\n"
          ],
          "name": "stdout"
        }
      ]
    },
    {
      "cell_type": "code",
      "metadata": {
        "id": "q0qu-ptnCPmd",
        "outputId": "357571cd-3eb5-4ba1-ee94-c78e68b0f45d",
        "colab": {
          "base_uri": "https://localhost:8080/",
          "height": 156
        }
      },
      "source": [
        "#Argumentos posicionales con diccionarios **\n",
        "def comanda3 (**opciones):\n",
        "  print(opciones)\n",
        "  for op in opciones.items():\n",
        "    print(f\"{op[0]} --- {op[1]}\")\n",
        "\n",
        "comanda3(primer=\"sopa aguada\",fuerte=\"tortas de papa\",postre=\"gelatina de limon\",\n",
        "         extra1=\"las tortas bien doradas\",extra2=\"traer dos limones\",extra3=\"agua con hielo\")\n"
      ],
      "execution_count": 56,
      "outputs": [
        {
          "output_type": "stream",
          "text": [
            "{'primer': 'sopa aguada', 'fuerte': 'tortas de papa', 'postre': 'gelatina de limon', 'extra1': 'las tortas bien doradas', 'extra2': 'traer dos limones', 'extra3': 'agua con hielo'}\n",
            "primer --- sopa aguada\n",
            "fuerte --- tortas de papa\n",
            "postre --- gelatina de limon\n",
            "extra1 --- las tortas bien doradas\n",
            "extra2 --- traer dos limones\n",
            "extra3 --- agua con hielo\n"
          ],
          "name": "stdout"
        }
      ]
    }
  ]
}