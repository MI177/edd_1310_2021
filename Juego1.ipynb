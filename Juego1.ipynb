{
  "nbformat": 4,
  "nbformat_minor": 0,
  "metadata": {
    "colab": {
      "name": "Juego1.ipynb",
      "provenance": [],
      "authorship_tag": "ABX9TyO9ZExl9BzEa+S+UPCSzM32",
      "include_colab_link": true
    },
    "kernelspec": {
      "name": "python3",
      "display_name": "Python 3"
    }
  },
  "cells": [
    {
      "cell_type": "markdown",
      "metadata": {
        "id": "view-in-github",
        "colab_type": "text"
      },
      "source": [
        "<a href=\"https://colab.research.google.com/github/MI177/edd_1310_2021/blob/master/Juego1.ipynb\" target=\"_parent\"><img src=\"https://colab.research.google.com/assets/colab-badge.svg\" alt=\"Open In Colab\"/></a>"
      ]
    },
    {
      "cell_type": "code",
      "metadata": {
        "id": "WXgKEQQBQ7zN"
      },
      "source": [
        "class  Juego:\n",
        "    cv=1\n",
        "    cv=0\n",
        "    rens=2\n",
        "    cols=3\n",
        "    \n",
        "    def __init__(self,rens,cols,generaciones,poblacion):\n",
        "        self.largo=cols\n",
        "        self.alto=rens\n",
        "        self.grid.clearing(self.cm)\n",
        "        self.grid=Array2D(self.alto, self.largo,0)\n",
        "        self.generaciones=generaciones\n",
        "\n",
        "        for celula in poblacion:\n",
        "            self.grid.set_item(celula[0],celula[1],self.cv)\n",
        "\n",
        "    def configura_generacion(self,nueva_poblacion):\n",
        "        self.grid.clearing()\n",
        "        for celula in nueva_poblacion:\n",
        "            self.grid.set_item(celula[0],celula[1],self.cv)\n",
        "\n",
        "    def imprime_grid(self):\n",
        "        for r in range(self.grid.get_num_rows()):\n",
        "            for c in range(self.grid.get_num_cols()):\n",
        "                if self.grid.get_item(r,c)==0:\n",
        "                    print(\"░░\",end=\"\")\n",
        "                else:\n",
        "                    print(\"▓▓\",end=\"\")\n",
        "            print(\"\")\n",
        "\n",
        "    def get_num_rows(self):\n",
        "        return self.alto\n",
        "    def get_num_cols(self):\n",
        "        return self.largo\n",
        "    \n",
        "    def clearing(self, valor=0):\n",
        "        for ren in range(self.__rows):\n",
        "            for col in range(self.__cols):\n",
        "                self.__array[ren][col]=valor\n",
        "\n",
        "    def set_celula_muerta(self,row,col):\n",
        "        self.grid.set_item(row,col,self.cm)\n",
        "\n",
        "    def set_celula_viva(self,row,col):\n",
        "        self.grid.set_item(row,col,self.cv)\n",
        "\n",
        "    def get_is_viva(self,row,col):\n",
        "        return self.grid.get_item(row,col)==self.cv\n",
        "    def get_is_muerta(self,row,col):\n",
        "        return self.grid.get_item(row,col)==self.cm\n",
        "\n",
        "    def get_numero_vecinos_vivos(self , row , col ):\n",
        "        limites=[ row-1 , row+1 , col-1 , col+1 ]\n",
        "        vivos = 0\n",
        "        limites=self.__ajusta_limites__(limites)\n",
        "        if row >= 0 and row <= self.alto-1 and col >= 0 and col <= self.largo -1 :\n",
        "            for r in range(limites[0],limites[1]+1):\n",
        "                for c in range(limites[2],limites[3]+1):\n",
        "                    if r == row and c == col:\n",
        "                        continue\n",
        "                    else :\n",
        "                        if self.grid.get_item(r,c) == self.CELULA_VIVA :\n",
        "                            vivos += 1\n",
        "        else :\n",
        "            print(\"Coordenada la celula fuera del grid\")\n",
        "\n",
        "        return vivos\n",
        "\n",
        "    def evolucionar(self):\n",
        "        if (vivos=2 or vivos=3):\n",
        "            print(\"Sobrevive, metodo grid\")\n",
        "        else:\n",
        "            if(vivos=0 or vivos=1 or vivos>=4):\n",
        "                print(\"No sobrevive\")\n"
      ],
      "execution_count": null,
      "outputs": []
    }
  ]
}