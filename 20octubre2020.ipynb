{
  "nbformat": 4,
  "nbformat_minor": 0,
  "metadata": {
    "colab": {
      "name": "20octubre2020.ipynb",
      "provenance": [],
      "authorship_tag": "ABX9TyNg2V2Svz3Nt4jnoTGHpmk9",
      "include_colab_link": true
    },
    "kernelspec": {
      "name": "python3",
      "display_name": "Python 3"
    }
  },
  "cells": [
    {
      "cell_type": "markdown",
      "metadata": {
        "id": "view-in-github",
        "colab_type": "text"
      },
      "source": [
        "<a href=\"https://colab.research.google.com/github/MI177/edd_1310_2021/blob/master/20octubre2020.ipynb\" target=\"_parent\"><img src=\"https://colab.research.google.com/assets/colab-badge.svg\" alt=\"Open In Colab\"/></a>"
      ]
    },
    {
      "cell_type": "code",
      "metadata": {
        "id": "SKBwYTBbxqrH",
        "outputId": "1c02e5b7-0c5d-4fca-99cc-6600874c3e9c",
        "colab": {
          "base_uri": "https://localhost:8080/",
          "height": 272
        }
      },
      "source": [
        "archivo=open(\"numeros.txt\",\"rt\")\n",
        "for linea in archivo.readlines():\n",
        "  for trunc in linea.split(','):\n",
        "    print(int(trunc.strip()))"
      ],
      "execution_count": 2,
      "outputs": [
        {
          "output_type": "stream",
          "text": [
            "23\n",
            "23\n",
            "44\n",
            "55\n",
            "5\n",
            "44\n",
            "4\n",
            "5\n",
            "7\n",
            "7\n",
            "6\n",
            "5\n",
            "4\n",
            "2\n",
            "1\n"
          ],
          "name": "stdout"
        }
      ]
    },
    {
      "cell_type": "markdown",
      "metadata": {
        "id": "Ahamspa52t7Q"
      },
      "source": [
        "# Sintaxis for en python\n",
        "\n",
        "dos versiones de for\n",
        "\n",
        "1-range\n",
        "\n",
        "2-in iterador"
      ]
    },
    {
      "cell_type": "code",
      "metadata": {
        "id": "Xv9RXQjn25Yk",
        "outputId": "b869b774-f7f1-4745-bc66-142097aea59a",
        "colab": {
          "base_uri": "https://localhost:8080/",
          "height": 374
        }
      },
      "source": [
        "r=range(0,10,2)\n",
        "for x in r:\n",
        "  print(x)\n",
        "\n",
        "  colores=['rojo','rosa','azul','fucsia']\n",
        "#range(0,len(colores,1))\n",
        "for indice in range(0,4,1): #En C for(indice=0:indice<4;indice++)\n",
        "  #print(colores[indice])\n",
        "  colores[indice]=colores[indice].upper()\n",
        "\n",
        "  #for iterador\n",
        "\n",
        "  for col in colores:\n",
        "    print(col)"
      ],
      "execution_count": 8,
      "outputs": [
        {
          "output_type": "stream",
          "text": [
            "0\n",
            "2\n",
            "4\n",
            "6\n",
            "8\n",
            "ROJO\n",
            "rosa\n",
            "azul\n",
            "fucsia\n",
            "ROJO\n",
            "ROSA\n",
            "azul\n",
            "fucsia\n",
            "ROJO\n",
            "ROSA\n",
            "AZUL\n",
            "fucsia\n",
            "ROJO\n",
            "ROSA\n",
            "AZUL\n",
            "FUCSIA\n"
          ],
          "name": "stdout"
        }
      ]
    },
    {
      "cell_type": "markdown",
      "metadata": {
        "id": "2rDPdHn_8A0Y"
      },
      "source": [
        "# Generadores\n",
        "\n",
        "sintaxis \n",
        "\n",
        "[valor for x in range()]\n",
        "[0 for x in range(10)]"
      ]
    },
    {
      "cell_type": "code",
      "metadata": {
        "id": "BdOZ0wE18ZLZ",
        "outputId": "47502fc0-c161-4bca-9724-581e0c9390a0",
        "colab": {
          "base_uri": "https://localhost:8080/",
          "height": 51
        }
      },
      "source": [
        "lista=[\"hola\" for x in range(10)]\n",
        "print(lista)\n",
        "\n",
        "matriz=[ [0,0,0] for x in range(3)] \n",
        "print(matriz)"
      ],
      "execution_count": 12,
      "outputs": [
        {
          "output_type": "stream",
          "text": [
            "['hola', 'hola', 'hola', 'hola', 'hola', 'hola', 'hola', 'hola', 'hola', 'hola']\n",
            "[[0, 0, 0], [0, 0, 0], [0, 0, 0]]\n"
          ],
          "name": "stdout"
        }
      ]
    },
    {
      "cell_type": "code",
      "metadata": {
        "id": "yVEM1fIR94PW",
        "outputId": "0f781eb5-729a-4b31-9b09-373164f27288",
        "colab": {
          "base_uri": "https://localhost:8080/",
          "height": 34
        }
      },
      "source": [
        "ren=3\n",
        "col=3\n",
        "matriz=[[0 for x in range(col)] for x in range(ren)]\n",
        "print(matriz)"
      ],
      "execution_count": 17,
      "outputs": [
        {
          "output_type": "stream",
          "text": [
            "[[0, 0, 0], [0, 0, 0], [0, 0, 0]]\n"
          ],
          "name": "stdout"
        }
      ]
    },
    {
      "cell_type": "markdown",
      "metadata": {
        "id": "YzjTDuui_Iw-"
      },
      "source": [
        "# POO python\n",
        "\n",
        "-clase\n",
        "\n",
        "-constructor\n",
        "\n",
        "-encapsulamiento\n",
        "\n",
        "-metodos\n",
        "\n",
        "-atributos\n",
        "\n",
        "-herencia\n"
      ]
    },
    {
      "cell_type": "code",
      "metadata": {
        "id": "6RPa6nO3_akK"
      },
      "source": [
        "class Computadora:\n",
        "  def __init__(self,m,p): #metodo constructor\n",
        "    #print(\"creando el objeto\")\n",
        "    self.__marca=m\n",
        "    self.__procesador=p\n",
        "\n",
        "  def to_string(self):\n",
        "    #return \"Estado vacio\"\n",
        "    return \"marca:\"+self.__marca+\"procesador:\"+self.__procesador\n",
        "\n",
        "mi_pc=Computadora(\"Toshiba\",\"Intel i7\")\n",
        "mi_pc=__marca=\"HP\" #no encapsulado\n",
        "print(mi_pc.to_string())"
      ],
      "execution_count": 23,
      "outputs": []
    }
  ]
}