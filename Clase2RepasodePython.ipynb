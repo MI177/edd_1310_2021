{
  "nbformat": 4,
  "nbformat_minor": 0,
  "metadata": {
    "colab": {
      "name": "Clase2RepasodePython.ipynb",
      "provenance": [],
      "collapsed_sections": [],
      "authorship_tag": "ABX9TyOODCjOk61JIkSJ2a3kEHEy",
      "include_colab_link": true
    },
    "kernelspec": {
      "name": "python3",
      "display_name": "Python 3"
    }
  },
  "cells": [
    {
      "cell_type": "markdown",
      "metadata": {
        "id": "view-in-github",
        "colab_type": "text"
      },
      "source": [
        "<a href=\"https://colab.research.google.com/github/MI177/edd_1310_2021/blob/master/Clase2RepasodePython.ipynb\" target=\"_parent\"><img src=\"https://colab.research.google.com/assets/colab-badge.svg\" alt=\"Open In Colab\"/></a>"
      ]
    },
    {
      "cell_type": "markdown",
      "metadata": {
        "id": "tghteS3R8trM"
      },
      "source": [
        "# Python 3\n",
        "\n",
        "Variables"
      ]
    },
    {
      "cell_type": "code",
      "metadata": {
        "id": "7vjN7VPF85t1",
        "outputId": "43ee3ef8-a75c-4354-f51b-883d1cc821b3",
        "colab": {
          "base_uri": "https://localhost:8080/",
          "height": 187
        }
      },
      "source": [
        "escuela = \"FES Aragon\"\n",
        "print(escuela)\n",
        "print(\"-------------\")\n",
        "edad=13\n",
        "estatura=1.67\n",
        "fumador=False\n",
        "frase=\"\"\"\n",
        "esta es\n",
        "una \n",
        "frase de multiples lineas y\n",
        "tambien es\n",
        "un tipo de dato\n",
        "\"\"\"\n",
        "\n",
        "print(frase)\n",
        "nombre='jose2'\n",
        "nombre_completo=\"jose sosa cardenas\"\n",
        "print(nombre_completo)\n",
        "\n",
        "\n"
      ],
      "execution_count": 17,
      "outputs": [
        {
          "output_type": "stream",
          "text": [
            "FES Aragon\n",
            "-------------\n",
            "\n",
            "esta es\n",
            "una \n",
            "frase de multiples lineas y\n",
            "tambien es\n",
            "un tipo de dato\n",
            "\n",
            "jose sosa cardenas\n"
          ],
          "name": "stdout"
        }
      ]
    },
    {
      "cell_type": "markdown",
      "metadata": {
        "id": "889Pn9B691P_"
      },
      "source": [
        "# Print \n",
        "\n",
        "puedes usar  con comas ,\n",
        "\n",
        "con signo mas +\n",
        "\n",
        "con format()\n",
        "\n",
        "con el operador f\"\""
      ]
    },
    {
      "cell_type": "code",
      "metadata": {
        "id": "HFK0aDWg-ELl",
        "outputId": "4ad38200-1cb0-4893-c6c8-dc92efc64bfe",
        "colab": {
          "base_uri": "https://localhost:8080/",
          "height": 34
        }
      },
      "source": [
        "print(nombre,edad)\n"
      ],
      "execution_count": 9,
      "outputs": [
        {
          "output_type": "stream",
          "text": [
            "jose2 13\n"
          ],
          "name": "stdout"
        }
      ]
    },
    {
      "cell_type": "code",
      "metadata": {
        "id": "smqrmxuR_C8m",
        "outputId": "18ba7ed1-23b0-4ff9-f03d-f58f9d7d4129",
        "colab": {
          "base_uri": "https://localhost:8080/",
          "height": 51
        }
      },
      "source": [
        "# + concatena solo concatena cadenas y tienes que convertir los tipos de variables numericas a tipo cadena str\n",
        "print(nombre+str(edad))\n",
        "print(nombre + nombre_completo)"
      ],
      "execution_count": 19,
      "outputs": [
        {
          "output_type": "stream",
          "text": [
            "jose213\n",
            "jose2jose sosa cardenas\n"
          ],
          "name": "stdout"
        }
      ]
    },
    {
      "cell_type": "code",
      "metadata": {
        "id": "RfrfWnIzATus",
        "outputId": "4a5dd5cc-bd80-42b5-f350-55c09a710fba",
        "colab": {
          "base_uri": "https://localhost:8080/",
          "height": 51
        }
      },
      "source": [
        "#con formato / nombre: jose y su edad es 13 \n",
        "print(\"Su nombre es {0} y su edad es {1} \".format(nombre,edad))\n",
        "print(\"Su nombre es {1} y su edad es {0} \".format(nombre,edad))"
      ],
      "execution_count": 13,
      "outputs": [
        {
          "output_type": "stream",
          "text": [
            "Su nombre es jose2 y su edad es 13 \n",
            "Su nombre es 13 y su edad es jose2 \n"
          ],
          "name": "stdout"
        }
      ]
    },
    {
      "cell_type": "code",
      "metadata": {
        "id": "zSLm4dA5BwWk",
        "outputId": "5ee81123-9784-4f83-e2f8-277a3067441f",
        "colab": {
          "base_uri": "https://localhost:8080/",
          "height": 34
        }
      },
      "source": [
        "#formato con el operador f\"\"\n",
        "print(f\"Su nombre es {nombre} y su edad es {edad}\") #forma recomendada para el semestre \n"
      ],
      "execution_count": 14,
      "outputs": [
        {
          "output_type": "stream",
          "text": [
            "Su nombre es jose2 y su edad es 13\n"
          ],
          "name": "stdout"
        }
      ]
    },
    {
      "cell_type": "markdown",
      "metadata": {
        "id": "vwSFcNEHCPhQ"
      },
      "source": [
        "# Caracter de escape \n",
        "\n",
        "\\n salto de linea\n",
        "\n",
        "\\t tabulador \n",
        "\n",
        "\\a beep\n",
        "\n",
        "\\\\\" escapar/imprimir comillas\n",
        "\n",
        "\\\\' escapar comillas simples"
      ]
    },
    {
      "cell_type": "markdown",
      "metadata": {
        "id": "J2tZt0w1F9wM"
      },
      "source": [
        "# Ayuda en python\n",
        "\n",
        "dir()\n",
        "\n",
        "help()"
      ]
    },
    {
      "cell_type": "code",
      "metadata": {
        "id": "4-ATNEgKHPaZ",
        "outputId": "7df0728c-5ed3-490f-dec0-bc8aab93fc4c",
        "colab": {
          "base_uri": "https://localhost:8080/",
          "height": 51
        }
      },
      "source": [
        "print(nombre_completo.capitalize())\n",
        "print(nombre_completo.upper(), end=\"----\")\n"
      ],
      "execution_count": 23,
      "outputs": [
        {
          "output_type": "stream",
          "text": [
            "Jose sosa cardenas\n",
            "JOSE SOSA CARDENAS----"
          ],
          "name": "stdout"
        }
      ]
    },
    {
      "cell_type": "code",
      "metadata": {
        "id": "MBkIisXdGGLL",
        "outputId": "da523dc7-7835-4656-f56e-297c4f118bdd",
        "colab": {
          "base_uri": "https://localhost:8080/",
          "height": 221
        }
      },
      "source": [
        "help(print)"
      ],
      "execution_count": 15,
      "outputs": [
        {
          "output_type": "stream",
          "text": [
            "Help on built-in function print in module builtins:\n",
            "\n",
            "print(...)\n",
            "    print(value, ..., sep=' ', end='\\n', file=sys.stdout, flush=False)\n",
            "    \n",
            "    Prints the values to a stream, or to sys.stdout by default.\n",
            "    Optional keyword arguments:\n",
            "    file:  a file-like object (stream); defaults to the current sys.stdout.\n",
            "    sep:   string inserted between values, default a space.\n",
            "    end:   string appended after the last value, default a newline.\n",
            "    flush: whether to forcibly flush the stream.\n",
            "\n"
          ],
          "name": "stdout"
        }
      ]
    },
    {
      "cell_type": "markdown",
      "metadata": {
        "id": "pRjkhATnGtBw"
      },
      "source": [
        "# Clase String\n",
        "\n",
        "es manejada xcomo un arreglo (c o java) o lista (python)\n",
        "\n",
        "telefono=\"Huawei mate 30 pro\"\n",
        "\n",
        "el stop no se incluye termina en el valor anterior al stoop"
      ]
    },
    {
      "cell_type": "code",
      "metadata": {
        "id": "bqV15FqCHLUQ",
        "outputId": "813fdc9d-0f2b-4d2a-f8b1-868904f31b21",
        "colab": {
          "base_uri": "https://localhost:8080/",
          "height": 34
        }
      },
      "source": [
        "telefono=\"Huawei mate 30 pro\"\n",
        "print(telefono[5])"
      ],
      "execution_count": 21,
      "outputs": [
        {
          "output_type": "stream",
          "text": [
            "i\n"
          ],
          "name": "stdout"
        }
      ]
    },
    {
      "cell_type": "markdown",
      "metadata": {
        "id": "6bc4jnxjIS7P"
      },
      "source": [
        "# Slicing rebanado\n",
        "\n",
        "[int:stop:incremento]\n",
        "\n",
        "el inicio y el incremento son opcionales"
      ]
    },
    {
      "cell_type": "code",
      "metadata": {
        "id": "l-7lVSfsIfBT",
        "outputId": "c45996a4-d8fb-464d-ff58-6f977a0ff175",
        "colab": {
          "base_uri": "https://localhost:8080/",
          "height": 102
        }
      },
      "source": [
        "print(telefono[7:11:1])\n",
        "print(telefono[:11:])\n",
        "#el valor por defecto de stop es len() imprimr toda la cadena\n",
        "print(telefono[::])\n",
        "#incremento negativo\n",
        "print(telefono[::-1])\n",
        "print(telefono[-3::1])"
      ],
      "execution_count": 31,
      "outputs": [
        {
          "output_type": "stream",
          "text": [
            "mate\n",
            "Huawei mate\n",
            "Huawei mate 30 pro\n",
            "orp 03 etam iewauH\n",
            "pro\n"
          ],
          "name": "stdout"
        }
      ]
    },
    {
      "cell_type": "markdown",
      "metadata": {
        "id": "_oZ3x5VONVzu"
      },
      "source": [
        "# Metodo string\n",
        "\n",
        "metodos utiles para la clase string"
      ]
    },
    {
      "cell_type": "code",
      "metadata": {
        "id": "PwKb08vqNoSx",
        "outputId": "3d4ec5fa-d919-4b07-a50a-95f2f994f0d1",
        "colab": {
          "base_uri": "https://localhost:8080/",
          "height": 204
        }
      },
      "source": [
        "facultad=\"    facultad de estudios superiores arargon     \"\n",
        "print(facultad)\n",
        "print(facultad.count(\"s\")) #Cuenta un deterinado numero de elemntos en una cadena\n",
        "print(facultad.find(\"s\"))\n",
        "print(facultad.strip())#remueve espacios en blanco al principio y al final y quita saltos de linea\n",
        "print(len(facultad))\n",
        "print(facultad.split(\"t \"))\n",
        "print(facultad.strip().split(\" \"))\n",
        "\n",
        "print(\"-----------------\")\n",
        "#copiar cadenas\n",
        "otra_cadena=facultad\n",
        "otra_cadena=\"FES Aragon\"\n",
        "print(otra_cadena)\n",
        "print(facultad)\n",
        "print(otra_cadena)\n",
        "\n",
        "#copiar listas\n",
        "colores =[\"rojo\",\"verde\"]\n"
      ],
      "execution_count": 49,
      "outputs": [
        {
          "output_type": "stream",
          "text": [
            "    facultad de estudios superiores arargon     \n",
            "4\n",
            "17\n",
            "facultad de estudios superiores arargon\n",
            "48\n",
            "['    facultad de estudios superiores arargon     ']\n",
            "['facultad', 'de', 'estudios', 'superiores', 'arargon']\n",
            "-----------------\n",
            "FES Aragon\n",
            "    facultad de estudios superiores arargon     \n",
            "FES Aragon\n"
          ],
          "name": "stdout"
        }
      ]
    }
  ]
}