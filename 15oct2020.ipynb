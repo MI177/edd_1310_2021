{
  "nbformat": 4,
  "nbformat_minor": 0,
  "metadata": {
    "colab": {
      "name": "15oct2020.ipynb",
      "provenance": [],
      "authorship_tag": "ABX9TyNlNTq5xQ9H0V3x8vIY78xq",
      "include_colab_link": true
    },
    "kernelspec": {
      "name": "python3",
      "display_name": "Python 3"
    }
  },
  "cells": [
    {
      "cell_type": "markdown",
      "metadata": {
        "id": "view-in-github",
        "colab_type": "text"
      },
      "source": [
        "<a href=\"https://colab.research.google.com/github/MI177/edd_1310_2021/blob/master/15oct2020.ipynb\" target=\"_parent\"><img src=\"https://colab.research.google.com/assets/colab-badge.svg\" alt=\"Open In Colab\"/></a>"
      ]
    },
    {
      "cell_type": "markdown",
      "metadata": {
        "id": "9NIrynKnB0zz"
      },
      "source": [
        "# Modulos\n",
        "\n",
        "Son recursos reutilizables que contienen varias opcuiones que pueden ser importadas a tu codigo, es decir puedes hacer un modulo y reutilizarlo en otros lados.\n",
        "\n"
      ]
    },
    {
      "cell_type": "code",
      "metadata": {
        "id": "VOpDgfmUAbze",
        "outputId": "e5190345-6590-4302-c934-8c7e308e429e",
        "colab": {
          "base_uri": "https://localhost:8080/",
          "height": 51
        }
      },
      "source": [
        "\"\"\"\n",
        "import mi_modulo\n",
        "\n",
        "x=mi_modulo.sumar(4,7)\n",
        "\n",
        "print(x)\n",
        "\n",
        "print(mi_modulo.multiplicar(3,5))\"\"\"\n",
        "\n"
      ],
      "execution_count": 3,
      "outputs": [
        {
          "output_type": "stream",
          "text": [
            "11\n",
            "15\n"
          ],
          "name": "stdout"
        }
      ]
    },
    {
      "cell_type": "code",
      "metadata": {
        "id": "Qwr9hklpKUnX",
        "outputId": "5ed37417-36bd-46ff-de45-cd0cc43f6d56",
        "colab": {
          "base_uri": "https://localhost:8080/",
          "height": 51
        }
      },
      "source": [
        "from mi_modulo import sumar, dividir #as sm\n",
        "print(sumar(4,7)) #sm se pueden poner alias a las funciones \n",
        "print(dividir(14,7))"
      ],
      "execution_count": 7,
      "outputs": [
        {
          "output_type": "stream",
          "text": [
            "11\n",
            "2.0\n"
          ],
          "name": "stdout"
        }
      ]
    },
    {
      "cell_type": "code",
      "metadata": {
        "id": "M35gDmbzLSHB",
        "outputId": "da75c61e-9db4-43fe-99e3-c11a5e1946c5",
        "colab": {
          "base_uri": "https://localhost:8080/",
          "height": 34
        }
      },
      "source": [
        "import mi_modulo as patito\n",
        "\n",
        "print(patito.sumar(4,6))"
      ],
      "execution_count": 5,
      "outputs": [
        {
          "output_type": "stream",
          "text": [
            "10\n"
          ],
          "name": "stdout"
        }
      ]
    },
    {
      "cell_type": "code",
      "metadata": {
        "id": "vexE7HFtODzt",
        "outputId": "b74d72cb-2782-4870-ee14-cef97a58b526",
        "colab": {
          "base_uri": "https://localhost:8080/",
          "height": 35
        }
      },
      "source": [
        "from joke_generator import generate\n",
        "\n",
        "generate()"
      ],
      "execution_count": 11,
      "outputs": [
        {
          "output_type": "execute_result",
          "data": {
            "application/vnd.google.colaboratory.intrinsic+json": {
              "type": "string"
            },
            "text/plain": [
              "'What do birds give out on Halloween? Tweets.'"
            ]
          },
          "metadata": {
            "tags": []
          },
          "execution_count": 11
        }
      ]
    },
    {
      "cell_type": "markdown",
      "metadata": {
        "id": "kXD-K5pKSUZq"
      },
      "source": [
        "# Archivos \n",
        "\n",
        "1-open (str,str)\n",
        "\n",
        "2-nombre o ruta del archivo \n",
        "\n",
        "dos caracteres\n",
        "\n",
        "-modo de apertura del archivo (r,w,a append solo si el archivo existe,x append solo si y solo si el archivo no existe)\n",
        "\n",
        "-formato del archivo (t o b)\n"
      ]
    },
    {
      "cell_type": "code",
      "metadata": {
        "id": "2kYgYRnyS6vR"
      },
      "source": [
        "archivo = open(\"saludo.txt\",\"wt\")\n",
        "archivo.write(\"Hola mundo \\n Ola ke ase\")\n",
        "archivo.close()"
      ],
      "execution_count": 13,
      "outputs": []
    },
    {
      "cell_type": "code",
      "metadata": {
        "id": "Er_I0TnLUaaF",
        "outputId": "9ac8a6e3-f906-4518-b30f-0bc36cbcfdf3",
        "colab": {
          "base_uri": "https://localhost:8080/",
          "height": 153
        }
      },
      "source": [
        "#leer archivo\n",
        "\n",
        "otro=open(\"./sample_data/anscombe.json\",\"rt\")\n",
        "datos=otro.read()\n",
        "#print(datos)\n",
        "otro.close()\n",
        "\n",
        "arch=open(\"frutas.txt\",\"rt\")\n",
        "data=\"ppp\"\n",
        "while(data!=\"\"):\n",
        "  data=arch.readline()\n",
        "  print(data)\n",
        "\"\"\"print(arch.readline())\n",
        "print(arch.readline())\n",
        "print(arch.readline())\n",
        "print(arch.readline())\"\"\"\n",
        "\n",
        "arch.close()\n",
        "\n",
        "arch=open(\"frutas.txt\",\"rt\")\n",
        "list_frutas=arch.readlines()\n",
        "print(list_frutas)\n",
        "arch.close()\n"
      ],
      "execution_count": 22,
      "outputs": [
        {
          "output_type": "stream",
          "text": [
            "manzana,peras  ,  kiwi , aguacate\n",
            "\n",
            "limon , naranja\n",
            "\n",
            "sandia , papaya\n",
            "\n",
            "\n",
            "['manzana,peras  ,  kiwi , aguacate\\n', 'limon , naranja\\n', 'sandia , papaya\\n']\n"
          ],
          "name": "stdout"
        }
      ]
    }
  ]
}