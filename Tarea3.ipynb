{
  "nbformat": 4,
  "nbformat_minor": 0,
  "metadata": {
    "colab": {
      "name": "Tarea3.ipynb",
      "provenance": [],
      "collapsed_sections": [],
      "authorship_tag": "ABX9TyNoy0abVoHn+ZI5uMZIpuq/",
      "include_colab_link": true
    },
    "kernelspec": {
      "name": "python3",
      "display_name": "Python 3"
    }
  },
  "cells": [
    {
      "cell_type": "markdown",
      "metadata": {
        "id": "view-in-github",
        "colab_type": "text"
      },
      "source": [
        "<a href=\"https://colab.research.google.com/github/MI177/edd_1310_2021/blob/master/Tarea3.ipynb\" target=\"_parent\"><img src=\"https://colab.research.google.com/assets/colab-badge.svg\" alt=\"Open In Colab\"/></a>"
      ]
    },
    {
      "cell_type": "code",
      "metadata": {
        "id": "zsn6XKUrxpMT",
        "outputId": "368188b0-4966-4395-8750-c3ac0e926eff",
        "colab": {
          "base_uri": "https://localhost:8080/",
          "height": 34
        }
      },
      "source": [
        "class Persona:\n",
        "  \n",
        "  def __init__(self,n,e1,e2):\n",
        "    self.__nombre=n\n",
        "    self.__edad=e1\n",
        "    self.__estatura=e2\n",
        "  def to_string(self):\n",
        "    return \"Nombre: \"+self.__nombre + \"Edad: \" + self.__edad + \"Estatura: \" + self.__estatura\n",
        "\n",
        "  def comer(self):\n",
        "    return(\"Comiendo ñam ñam\")\n",
        "  def dormir(self):\n",
        "    return(\"Durmiendo zzZZz...\")\n",
        "\n",
        "p=Persona(\"Isabel\",\"19\",\"1.59\")\n",
        "print(p.to_string(),p.comer(),p.dormir())\n"
      ],
      "execution_count": 5,
      "outputs": [
        {
          "output_type": "stream",
          "text": [
            "Nombre: IsabelEdad: 19Estatura: 1.59 Comiendo ñam ñam Durmiendo zzZZz...\n"
          ],
          "name": "stdout"
        }
      ]
    },
    {
      "cell_type": "code",
      "metadata": {
        "id": "r08R9RX8_9Ii",
        "outputId": "4a6a292c-c061-4668-ce86-5178ec20f200",
        "colab": {
          "base_uri": "https://localhost:8080/",
          "height": 34
        }
      },
      "source": [
        "class Celular:\n",
        "  \n",
        "  def __init__(self,m1,m2,m3):\n",
        "    self.__marca=m1\n",
        "    self.__modelo=m2\n",
        "    self.__memoria=m3\n",
        "  def to_string(self):\n",
        "    return \"Marca: \"+self.__marca + \"Modelo: \" + self.__modelo + \"Espacio de memoria: \" + self.__memoria\n",
        "\n",
        "  def llamar(self):\n",
        "    return(\"Llamando...\")\n",
        "  def alarma(self):\n",
        "    return(\"Alarma sonando...\")\n",
        "\n",
        "c=Celular(\"Samsung\",\"xz9z\",\"32GB\")\n",
        "print(c.to_string(),c.llamar(),c.alarma())\n"
      ],
      "execution_count": 6,
      "outputs": [
        {
          "output_type": "stream",
          "text": [
            "Marca: SamsungModelo: xz9zEspacio de memoria: 32GB Llamando... Alarma sonando...\n"
          ],
          "name": "stdout"
        }
      ]
    }
  ]
}