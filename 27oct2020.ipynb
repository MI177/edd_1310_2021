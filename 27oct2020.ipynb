{
  "nbformat": 4,
  "nbformat_minor": 0,
  "metadata": {
    "colab": {
      "name": "27oct2020.ipynb",
      "provenance": [],
      "authorship_tag": "ABX9TyOZo7xjRggolDrx4pCX2yMZ",
      "include_colab_link": true
    },
    "kernelspec": {
      "name": "python3",
      "display_name": "Python 3"
    }
  },
  "cells": [
    {
      "cell_type": "markdown",
      "metadata": {
        "id": "view-in-github",
        "colab_type": "text"
      },
      "source": [
        "<a href=\"https://colab.research.google.com/github/MI177/edd_1310_2021/blob/master/27oct2020.ipynb\" target=\"_parent\"><img src=\"https://colab.research.google.com/assets/colab-badge.svg\" alt=\"Open In Colab\"/></a>"
      ]
    },
    {
      "cell_type": "code",
      "metadata": {
        "id": "-P3pdCCZB1OU",
        "outputId": "0c0bd9eb-0c84-4afe-dc1c-9effab86d245",
        "colab": {
          "base_uri": "https://localhost:8080/",
          "height": 68
        }
      },
      "source": [
        "class Computadora:\n",
        "  def __init__(self,m,p):\n",
        "    self.__marca=m\n",
        "    self.__procesador=p\n",
        "\n",
        "  def to_string(self):\n",
        "    return \"marca:\" +self.__marca+ \"procesador:\" +self.__procesador\n",
        "\n",
        "  def set_marca(self , m):\n",
        "    self.__marca=m\n",
        "\n",
        "  def get_marca(self):\n",
        "    return self.__marca\n",
        "\n",
        "  def self_procesador(self,p):\n",
        "    self.__procesador=p\n",
        "  \n",
        "  def get_procesador(self):\n",
        "    return self.__procesador\n",
        "\n",
        "\n",
        "mi_pc=Computadora(\"Toshiba\",\"Intel i7\")\n",
        "print(mi_pc.to_string())\n",
        "#mi_pc.__marca=\"HP\" #intentando cambiar el valor privaddo, no se puede\n",
        "mi_pc.set_marca=(\"HP co.\")\n",
        "print(mi_pc.to_string())\n",
        "print(mi_pc.get_procesador())"
      ],
      "execution_count": 12,
      "outputs": [
        {
          "output_type": "stream",
          "text": [
            "marca:Toshibaprocesador:Intel i7\n",
            "marca:Toshibaprocesador:Intel i7\n",
            "Intel i7\n"
          ],
          "name": "stdout"
        }
      ]
    },
    {
      "cell_type": "markdown",
      "metadata": {
        "id": "o7CfUUjNEJK1"
      },
      "source": [
        "# Encapsulamiento python 3\n",
        "\n",
        "##Tradicional tipo java\n",
        "\n",
        "setAtributo(valor)\n",
        "\n",
        "getAtributo(valor)\n",
        "\n",
        "##Estilo python 3\n",
        "\n",
        "utilizando decoradores \n",
        "\n",
        "-@property\n",
        "\n",
        "-@atributo.setter\n"
      ]
    },
    {
      "cell_type": "code",
      "metadata": {
        "id": "r6rzHs3TH0t9",
        "outputId": "3cce2dc4-b509-4614-cee1-a08c8422e57d",
        "colab": {
          "base_uri": "https://localhost:8080/",
          "height": 102
        }
      },
      "source": [
        "class Computadora:\n",
        "  def __init__(self, m, p):\n",
        "    self.marca=m #se manda a llamar el decorador @property\n",
        "    self.procesador=p\n",
        "  @property #se delcara como atributo privado y funciona como get\n",
        "  def marca(self):\n",
        "    return self.__marca\n",
        "\n",
        "  @marca.setter \n",
        "  def marca(self,m):\n",
        "    print(\"en el set de marca\")\n",
        "    self.__marca=m\n",
        "  \n",
        "  @property\n",
        "  def procesador(self):\n",
        "    return self.__procesador\n",
        "  \n",
        "  @procesador.setter\n",
        "  def procesador(self,p):\n",
        "    print(\"en el set de procesador\")\n",
        "    self.__procesador=p\n",
        "\n",
        "  def to_string(self):\n",
        "    return \"marca \"+self.marca+ \"procesador \"+self.procesador\n",
        "  \n",
        "mi_pc2=Computadora(\"Mac book pro\",\"Intel i7\")\n",
        "print(mi_pc.to_string())\n",
        "mi_pc2.marca=\"Dell\"\n",
        "print(mi_pc2.to_string())"
      ],
      "execution_count": 17,
      "outputs": [
        {
          "output_type": "stream",
          "text": [
            "en el set de marca\n",
            "en el set de procesador\n",
            "marca:Toshibaprocesador:Intel i7\n",
            "en el set de marca\n",
            "marca Dellprocesador Intel i7\n"
          ],
          "name": "stdout"
        }
      ]
    },
    {
      "cell_type": "code",
      "metadata": {
        "id": "Uj4O33rGQimq",
        "outputId": "9f72c5d8-eac7-45ae-b5ff-7afbb7287502",
        "colab": {
          "base_uri": "https://localhost:8080/",
          "height": 85
        }
      },
      "source": [
        "#Herencia pasando la clase base a la declaracion\n",
        "class ServidorEmpresarial (Computadora):\n",
        "  def __init__(self):\n",
        "    print(\"hola servidor\")\n",
        "\n",
        "server=ServidorEmpresarial()\n",
        "server.marca=\"Sun Micro System\"\n",
        "server.procesador=\"Interl i7\"\n",
        "print(server.to_string())"
      ],
      "execution_count": 18,
      "outputs": [
        {
          "output_type": "stream",
          "text": [
            "hola servidor\n",
            "en el set de marca\n",
            "en el set de procesador\n",
            "marca Sun Micro Systemprocesador Interl i7\n"
          ],
          "name": "stdout"
        }
      ]
    }
  ]
}